{
 "cells": [
  {
   "cell_type": "code",
   "execution_count": 1,
   "id": "943ac114-20b4-4aa3-870c-8381bfada2d7",
   "metadata": {},
   "outputs": [],
   "source": [
    "def square(input_list):\n",
    "    return [x*x for x in input_list]"
   ]
  },
  {
   "cell_type": "code",
   "execution_count": 2,
   "id": "ecf784ae",
   "metadata": {},
   "outputs": [],
   "source": [
    "def sss(input_list):\n",
    "    return [x+100 for x in input_list]"
   ]
  },
  {
   "cell_type": "code",
   "execution_count": null,
   "id": "5be3f8f0",
   "metadata": {},
   "outputs": [],
   "source": []
  }
 ],
 "metadata": {
  "kernelspec": {
   "display_name": "torch-gpu",
   "language": "python",
   "name": "torch-gpu"
  },
  "language_info": {
   "codemirror_mode": {
    "name": "ipython",
    "version": 3
   },
   "file_extension": ".py",
   "mimetype": "text/x-python",
   "name": "python",
   "nbconvert_exporter": "python",
   "pygments_lexer": "ipython3",
   "version": "3.7.11"
  }
 },
 "nbformat": 4,
 "nbformat_minor": 5
}
