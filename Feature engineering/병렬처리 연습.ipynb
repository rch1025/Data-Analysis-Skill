{
 "cells": [
  {
   "cell_type": "markdown",
   "id": "74387664-e15b-4ef5-a964-01c2983a7d5e",
   "metadata": {},
   "source": [
    "`'Window 환경에서의 multiprocessing은 모두 실행하려는 함수를 py 파일로 만들고 진행해야 한다.`"
   ]
  },
  {
   "cell_type": "markdown",
   "id": "544e13c0-62cf-4032-932d-758dc56b99ab",
   "metadata": {},
   "source": [
    "-----"
   ]
  },
  {
   "cell_type": "markdown",
   "id": "667766d5-911b-4ce7-bd06-cbb416fb4d50",
   "metadata": {
    "tags": []
   },
   "source": [
    "# multiprocessing"
   ]
  },
  {
   "cell_type": "markdown",
   "id": "9307c1c3-c652-4f59-a61e-21dd11485dd2",
   "metadata": {},
   "source": [
    "- pool.close() : 더 이상 Pool에 추가 작업이 들어가지 않는다는 것을 알려준다. 지금 수행 중인 작업이 모두 끝나면 Pool의 프로세스들을 종료한다.\n",
    "    - close() 대신 terminate()를 사용하면, 현재 진행 중인 작업이 있떠라도 즉시 Pool의 프로세스들을 종료한다. \n",
    "  \n",
    "- pool.join() : .join()은 Pool의 모든 프로세스들의 종료가 완료되기를 기다린다."
   ]
  },
  {
   "cell_type": "code",
   "execution_count": null,
   "id": "a54b0a12-19b2-416a-b810-4ee3a7605524",
   "metadata": {},
   "outputs": [],
   "source": [
    "\"\"\"아래와 같이 데이터프레임이 들어왔을 때 처리되는 apply 함수를 짜놓고,\n",
    "데이터를 분할해서 함수를 적용한다. 이후 concat\"\"\"\n",
    "import random\n",
    "import pandas as pd\n",
    "import numpy as np\n",
    "from multiprocessing import  Pool\n",
    "\n",
    "def add_features(df):\n",
    "    df['question_text'] = df['question_text'].apply(lambda x:str(x))\n",
    "    df[\"lower_question_text\"] = df[\"question_text\"].apply(lambda x: x.lower())\n",
    "    df['total_length'] = df['question_text'].apply(len)\n",
    "    df['capitals'] = df['question_text'].apply(lambda comment: sum(1 for c in comment if c.isupper()))\n",
    "    df['caps_vs_length'] = df.apply(lambda row: float(row['capitals'])/float(row['total_length']),\n",
    "                                axis=1)\n",
    "    df['num_words'] = df.question_text.str.count('\\S+')\n",
    "    df['num_unique_words'] = df['question_text'].apply(lambda comment: len(set(w for w in comment.split())))\n",
    "    df['words_vs_unique'] = df['num_unique_words'] / df['num_words'] \n",
    "    df['num_exclamation_marks'] = df['question_text'].apply(lambda comment: comment.count('!'))\n",
    "    df['num_question_marks'] = df['question_text'].apply(lambda comment: comment.count('?'))\n",
    "    df['num_punctuation'] = df['question_text'].apply(lambda comment: sum(comment.count(w) for w in '.,;:'))\n",
    "    df['num_symbols'] = df['question_text'].apply(lambda comment: sum(comment.count(w) for w in '*&$%'))\n",
    "    df['num_smilies'] = df['question_text'].apply(lambda comment: sum(comment.count(w) for w in (':-)', ':)', ';-)', ';)')))\n",
    "    df['num_sad'] = df['question_text'].apply(lambda comment: sum(comment.count(w) for w in (':-<', ':()', ';-()', ';(')))\n",
    "    df[\"mean_word_len\"] = df[\"question_text\"].apply(lambda x: np.mean([len(w) for w in str(x).split()]))\n",
    "    return df"
   ]
  },
  {
   "cell_type": "code",
   "execution_count": null,
   "id": "0d0df4f2-b1e7-4c98-9908-f4463b5ce07f",
   "metadata": {},
   "outputs": [],
   "source": [
    "\"\"\"multiprocessing\"\"\"\n",
    "def parallelize_dataframe(df, func, n_cores = 8): \n",
    "    df_split = np.array_split(n_cores) # core의 개수만큼 df를 나눔\n",
    "    pool = Pool(n_cores) # pool을 core개수만큼 생성 \n",
    "    df = pd.concat(pool.map(func, df_split)) # 나누어진 df를 func을 적용해서 수행 및 concat\n",
    "    pool.close() pool.join() # 모두 완료될 때까지 대기 \n",
    "    return df\n"
   ]
  },
  {
   "cell_type": "markdown",
   "id": "a5a72137-7f84-44ac-96c8-6849e939e480",
   "metadata": {},
   "source": [
    "------"
   ]
  },
  {
   "cell_type": "markdown",
   "id": "fef45b5f-f338-411f-ab0e-c3d213a1c38d",
   "metadata": {},
   "source": [
    "# parmap"
   ]
  },
  {
   "cell_type": "code",
   "execution_count": 23,
   "id": "3bc68921",
   "metadata": {},
   "outputs": [
    {
     "data": {
      "text/plain": [
       "<module 'test_func' from 'C:\\\\Users\\\\RohSeungChan\\\\Desktop\\\\sps. Lab\\\\### SIT 프로젝트 ###\\\\[[코드]]\\\\test_func.py'>"
      ]
     },
     "execution_count": 23,
     "metadata": {},
     "output_type": "execute_result"
    }
   ],
   "source": [
    "import multiprocessing\n",
    "import parmap\n",
    "import numpy as np\n",
    "\n",
    "\"\"\"multiprocessing으로 처리하는 함수를 담은 모듈\"\"\"\n",
    "import test_func as tf\n",
    "\n",
    "\"\"\"py 파일 reload할 때 사용하는 라이브러리\"\"\"\n",
    "import importlib\n",
    "importlib.reload(tf)"
   ]
  },
  {
   "cell_type": "code",
   "execution_count": null,
   "id": "1e22f4f3-104e-42bb-af7a-8a061108aac7",
   "metadata": {},
   "outputs": [],
   "source": [
    "\"\"\"test_function 안의 함수들\"\"\"\n",
    "def square(input_list):\n",
    "    return [x*x for x in input_list]\n",
    "\n",
    "def sss(input_list):\n",
    "    return [x+100 for x in input_list]"
   ]
  },
  {
   "cell_type": "code",
   "execution_count": 27,
   "id": "4a921af7",
   "metadata": {},
   "outputs": [
    {
     "name": "stdout",
     "output_type": "stream",
     "text": [
      "[1, 2, 3, 4, 5, 6, 7, 8, 9, 10, 11, 12, 13, 14, 15, 16, 17, 18, 19, 20, 21, 22, 23, 24]\n"
     ]
    }
   ],
   "source": [
    "## 데이터 생성\n",
    "data = list(range(1, 25))\n",
    "\n",
    "\"\"\"데이터를 core의 개수만큼 나눠준다.\"\"\"\n",
    "num_cores = multiprocessing.cpu_count() # 8\n",
    "print(data)"
   ]
  },
  {
   "cell_type": "code",
   "execution_count": 28,
   "id": "15420b63",
   "metadata": {
    "scrolled": true
   },
   "outputs": [
    {
     "data": {
      "text/plain": [
       "[[1, 2, 3],\n",
       " [4, 5, 6],\n",
       " [7, 8, 9],\n",
       " [10, 11, 12],\n",
       " [13, 14, 15],\n",
       " [16, 17, 18],\n",
       " [19, 20, 21],\n",
       " [22, 23, 24]]"
      ]
     },
     "execution_count": 28,
     "metadata": {},
     "output_type": "execute_result"
    }
   ],
   "source": [
    "\"\"\"데이터를 사용하는 core의 개수만큼 나눠준다.\"\"\"\n",
    "splited_data =  np.array_split(data, num_cores)\n",
    "splited_data = [x.tolist() for x in splited_data]\n",
    "splited_data\n",
    "\n",
    "### 결과물 예시\n",
    "# split_input = [[1,2,3,4,5], [6,7,8,9,10], ... ]\n",
    "\"\"\"아래와 같이 각 데이터가 리스트로 되어서 들어있는 것을 알 수 있다.\"\"\""
   ]
  },
  {
   "cell_type": "code",
   "execution_count": 29,
   "id": "82c1da2e",
   "metadata": {},
   "outputs": [
    {
     "data": {
      "text/plain": [
       "[101, 102, 103]"
      ]
     },
     "execution_count": 29,
     "metadata": {},
     "output_type": "execute_result"
    }
   ],
   "source": [
    "\"\"\"모듈 내의 함수 확인\"\"\"\n",
    "tf.sss(splited_data[0])"
   ]
  },
  {
   "cell_type": "markdown",
   "id": "7b88132d-2478-4780-84e4-a1955d6330c4",
   "metadata": {},
   "source": [
    "## parmap.map()\n",
    "- parmap.map(\t\n",
    "-  ex_func,      # 실행 함수 \n",
    "-  split_input,  # input data (core 수 대로 나눈 데이터)\n",
    "-  a, b,         # 실행하려는 함수의 파라미터\n",
    "-  pm_pbar=True, # 진행상황 bar  \n",
    "-  pm_processes=NUM_CORES, # core 갯수\n",
    "-    )"
   ]
  },
  {
   "cell_type": "code",
   "execution_count": 30,
   "id": "8f64ca37",
   "metadata": {},
   "outputs": [
    {
     "data": {
      "application/vnd.jupyter.widget-view+json": {
       "model_id": "cf61d918808e401b80af521fc34e70e0",
       "version_major": 2,
       "version_minor": 0
      },
      "text/plain": [
       "  0%|          | 0/8 [00:00<?, ?it/s]"
      ]
     },
     "metadata": {},
     "output_type": "display_data"
    },
    {
     "data": {
      "text/plain": [
       "[[1, 4, 9],\n",
       " [16, 25, 36],\n",
       " [49, 64, 81],\n",
       " [100, 121, 144],\n",
       " [169, 196, 225],\n",
       " [256, 289, 324],\n",
       " [361, 400, 441],\n",
       " [484, 529, 576]]"
      ]
     },
     "execution_count": 30,
     "metadata": {},
     "output_type": "execute_result"
    }
   ],
   "source": [
    "result = parmap.map(tf.square, splited_data, pm_pbar=True, pm_processes=num_cores)\n",
    "result"
   ]
  }
 ],
 "metadata": {
  "kernelspec": {
   "display_name": "torch-gpu",
   "language": "python",
   "name": "torch-gpu"
  },
  "language_info": {
   "codemirror_mode": {
    "name": "ipython",
    "version": 3
   },
   "file_extension": ".py",
   "mimetype": "text/x-python",
   "name": "python",
   "nbconvert_exporter": "python",
   "pygments_lexer": "ipython3",
   "version": "3.7.11"
  }
 },
 "nbformat": 4,
 "nbformat_minor": 5
}
